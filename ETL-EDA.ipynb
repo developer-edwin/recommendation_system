{
  "cells": [
    {
      "cell_type": "code",
      "execution_count": null,
      "metadata": {
        "colab": {
          "base_uri": "https://localhost:8080/"
        },
        "id": "Ffz-U0Sg008z",
        "outputId": "f7be3752-18ba-41bd-b65a-cf3c34488aeb"
      },
      "outputs": [
        {
          "name": "stdout",
          "output_type": "stream",
          "text": [
            "Drive already mounted at /content/drive; to attempt to forcibly remount, call drive.mount(\"/content/drive\", force_remount=True).\n"
          ]
        }
      ],
      "source": [
        "from google.colab import drive\n",
        "drive.mount('/content/drive')"
      ]
    },
    {
      "cell_type": "code",
      "execution_count": null,
      "metadata": {
        "colab": {
          "base_uri": "https://localhost:8080/"
        },
        "id": "VjErQsJTmKLj",
        "outputId": "155e816b-8ccf-4f91-bfb1-b3340ceffce3"
      },
      "outputs": [
        {
          "name": "stdout",
          "output_type": "stream",
          "text": [
            "Requirement already satisfied: textblob in /usr/local/lib/python3.10/dist-packages (0.17.1)\n",
            "Requirement already satisfied: nltk>=3.1 in /usr/local/lib/python3.10/dist-packages (from textblob) (3.8.1)\n",
            "Requirement already satisfied: click in /usr/local/lib/python3.10/dist-packages (from nltk>=3.1->textblob) (8.1.7)\n",
            "Requirement already satisfied: joblib in /usr/local/lib/python3.10/dist-packages (from nltk>=3.1->textblob) (1.3.2)\n",
            "Requirement already satisfied: regex>=2021.8.3 in /usr/local/lib/python3.10/dist-packages (from nltk>=3.1->textblob) (2023.6.3)\n",
            "Requirement already satisfied: tqdm in /usr/local/lib/python3.10/dist-packages (from nltk>=3.1->textblob) (4.66.1)\n"
          ]
        }
      ],
      "source": [
        "pip install textblob"
      ]
    },
    {
      "cell_type": "code",
      "execution_count": null,
      "metadata": {
        "id": "T1np9rg11TXT"
      },
      "outputs": [],
      "source": [
        "import pandas as pd\n",
        "import json\n",
        "import re"
      ]
    },
    {
      "cell_type": "markdown",
      "metadata": {
        "id": "0NdbpvUkAd4l"
      },
      "source": [
        "# Games"
      ]
    },
    {
      "cell_type": "code",
      "execution_count": null,
      "metadata": {
        "colab": {
          "background_save": true
        },
        "id": "4HCeY0XE1bbf"
      },
      "outputs": [],
      "source": [
        "# Cargar '/content/drive/MyDrive/pf_henry/datasets/output_steam_games.json' en un DataFrame\n",
        "data = []\n",
        "with open('/content/drive/MyDrive/pf_henry/datasets/output_steam_games.json') as f:\n",
        "    for line in f:\n",
        "        data.append(json.loads(line))\n",
        "\n",
        "df_games = pd.DataFrame(data)"
      ]
    },
    {
      "cell_type": "code",
      "execution_count": null,
      "metadata": {
        "id": "g9q2qcgqBD51"
      },
      "outputs": [],
      "source": [
        "df_games_clean = df_games[df_games['genres'].notna()]"
      ]
    },
    {
      "cell_type": "code",
      "execution_count": null,
      "metadata": {
        "colab": {
          "base_uri": "https://localhost:8080/"
        },
        "id": "8LaYCmiMJrYI",
        "outputId": "c8602611-57e9-4a49-82c2-747e917055c3"
      },
      "outputs": [
        {
          "name": "stdout",
          "output_type": "stream",
          "text": [
            "Existen registros con 'NaN' en 'title'. Cantidad: 1\n",
            "Existen registros con 'NaN' en 'id'. Cantidad: 1\n"
          ]
        }
      ],
      "source": [
        "# Comprobar si existen registros donde 'title' o 'id' son 'NaN'\n",
        "if not df_games_clean.empty:\n",
        "    num_nan_title = df_games_clean['title'].isna().sum()\n",
        "    num_nan_id = df_games_clean['id'].isna().sum()\n",
        "    print(f\"Existen registros con 'NaN' en 'title'. Cantidad: {num_nan_title}\")\n",
        "    print(f\"Existen registros con 'NaN' en 'id'. Cantidad: {num_nan_id}\")\n",
        "else:\n",
        "    print(\"No existen registros con 'NaN' en 'title' o 'id'.\")"
      ]
    },
    {
      "cell_type": "code",
      "execution_count": null,
      "metadata": {
        "colab": {
          "base_uri": "https://localhost:8080/"
        },
        "id": "_1laDmRwKehd",
        "outputId": "b5ebba53-5776-43f7-8b31-40c02e53c7f7"
      },
      "outputs": [
        {
          "name": "stdout",
          "output_type": "stream",
          "text": [
            "\n",
            "Registros con 'NaN' en 'id' o en 'title':\n"
          ]
        }
      ],
      "source": [
        "print(\"\\nRegistros con 'NaN' en 'id' o en 'title':\")\n",
        "for index, row in df_games_clean.iterrows():\n",
        "  if pd.isna(row['id']) | pd.isna(row['title']):\n",
        "    print(row)"
      ]
    },
    {
      "cell_type": "code",
      "execution_count": null,
      "metadata": {
        "colab": {
          "base_uri": "https://localhost:8080/"
        },
        "id": "KsQhZZsvrVGl",
        "outputId": "68702420-9459-4e72-9818-059e82bc4ff0"
      },
      "outputs": [
        {
          "name": "stdout",
          "output_type": "stream",
          "text": [
            "<class 'pandas.core.frame.DataFrame'>\n",
            "Int64Index: 28852 entries, 88310 to 120443\n",
            "Data columns (total 19 columns):\n",
            " #   Column          Non-Null Count  Dtype  \n",
            "---  ------          --------------  -----  \n",
            " 0   publisher       23955 non-null  object \n",
            " 1   genres          28852 non-null  object \n",
            " 2   app_name        28851 non-null  object \n",
            " 3   title           28852 non-null  object \n",
            " 4   url             28852 non-null  object \n",
            " 5   release_date    28834 non-null  object \n",
            " 6   tags            28828 non-null  object \n",
            " 7   reviews_url     28851 non-null  object \n",
            " 8   discount_price  204 non-null    float64\n",
            " 9   specs           28566 non-null  object \n",
            " 10  price           27622 non-null  object \n",
            " 11  early_access    28852 non-null  object \n",
            " 12  id              28852 non-null  object \n",
            " 13  metascore       2613 non-null   object \n",
            " 14  developer       28682 non-null  object \n",
            " 15  user_id         0 non-null      object \n",
            " 16  steam_id        0 non-null      object \n",
            " 17  items           0 non-null      object \n",
            " 18  items_count     0 non-null      float64\n",
            "dtypes: float64(2), object(17)\n",
            "memory usage: 4.4+ MB\n"
          ]
        }
      ],
      "source": [
        "df_games_clean.info()"
      ]
    },
    {
      "cell_type": "code",
      "execution_count": null,
      "metadata": {
        "id": "cDc3ilCdxlKl"
      },
      "outputs": [],
      "source": [
        "# Crear una copia independiente del DataFrame\n",
        "df_games_clean = df_games_clean.copy()\n",
        "\n",
        "# Función para buscar y cambiar fechas en formato 'month yyyy' a 'yyyy-mm-01'\n",
        "def convert_month_year_to_yyyy_mm_01(date_str):\n",
        "    try:\n",
        "        # Intentar encontrar el patrón 'month yyyy' en el texto\n",
        "        match = re.search(r'(\\w+)\\s+(\\d{4})', date_str)\n",
        "\n",
        "        if match:\n",
        "            # Obtener el mes y el año coincidentes\n",
        "            month, year = match.groups()\n",
        "\n",
        "            # Mapear nombres de meses a números\n",
        "            month_dict = {\n",
        "                'January': '01', 'February': '02', 'March': '03', 'April': '04',\n",
        "                'May': '05', 'June': '06', 'July': '07', 'August': '08',\n",
        "                'September': '09', 'October': '10', 'November': '11', 'December': '12'\n",
        "            }\n",
        "\n",
        "            # Componer la fecha en formato 'yyyy-mm-01'\n",
        "            yyyy_mm_01 = f\"{year}-{month_dict[month]}-01\"\n",
        "            return yyyy_mm_01\n",
        "    except:\n",
        "        pass\n",
        "\n",
        "    # Si no se encontró un formato válido, mantener el valor original\n",
        "    return date_str\n",
        "\n",
        "# Buscar y cambiar registros en la columna 'release_date'\n",
        "df_games_clean['release_date'] = df_games_clean['release_date'].apply(convert_month_year_to_yyyy_mm_01)"
      ]
    },
    {
      "cell_type": "code",
      "execution_count": null,
      "metadata": {
        "id": "M76NPmgW0LqW"
      },
      "outputs": [],
      "source": [
        "# Función para buscar y cambiar fechas en formato 'yyyy' a 'yyyy-01-01'\n",
        "def convert_year_to_yyyy_01_01(date_str):\n",
        "    try:\n",
        "        # Intentar encontrar el patrón '\\d{4}' (año de 4 dígitos) en el texto\n",
        "        match = re.search(r'(\\d{4})', date_str)\n",
        "\n",
        "        if match:\n",
        "            # Obtener el año coincidente\n",
        "            year = match.group(1)\n",
        "\n",
        "            # Componer la fecha en formato 'yyyy-01-01'\n",
        "            yyyy_01_01 = f\"{year}-01-01\"\n",
        "            return yyyy_01_01\n",
        "    except:\n",
        "        pass\n",
        "\n",
        "    # Si no se encontró un formato válido, mantener el valor original\n",
        "    return date_str\n",
        "\n",
        "# Buscar y cambiar registros en la columna 'release_date'\n",
        "df_games_clean['release_date'] = df_games_clean['release_date'].apply(convert_year_to_yyyy_01_01)"
      ]
    },
    {
      "cell_type": "code",
      "execution_count": null,
      "metadata": {
        "id": "RowNbXId3Ke5"
      },
      "outputs": [],
      "source": [
        "# Función para reemplazar valores que contienen 'soon' (mayúsculas o minúsculas)\n",
        "def replace_soon_with_0000_00_00(date_str):\n",
        "    # Utilizar una expresión regular para buscar 'soon' (ignorar mayúsculas/minúsculas y otros caracteres)\n",
        "    pattern = re.compile(r'\\bsoon\\b', re.IGNORECASE)\n",
        "    if pd.notna(date_str) and pattern.search(date_str):\n",
        "        return '0000-00-00'\n",
        "    return date_str\n",
        "\n",
        "# Buscar y cambiar registros en la columna 'release_date'\n",
        "df_games_clean['release_date'] = df_games_clean['release_date'].apply(replace_soon_with_0000_00_00)"
      ]
    },
    {
      "cell_type": "code",
      "execution_count": null,
      "metadata": {
        "id": "6c7hpHhp7V-K"
      },
      "outputs": [],
      "source": [
        "# Convertir la columna 'release_date' a tipo string\n",
        "df_games_clean['release_date'] = df_games_clean['release_date'].astype(str)\n",
        "\n",
        "# Condicional para identificar registros que no cumplen con el formato 'yyyy-mm-dd'\n",
        "condition = ~df_games_clean['release_date'].str.match(r'^\\d{4}-\\d{2}-\\d{2}$')\n",
        "\n",
        "# Cambiar el valor de 'release_date' por '0000-00-00' en los registros que cumplan la condición\n",
        "df_games_clean.loc[condition, 'release_date'] = '0000-00-00'"
      ]
    },
    {
      "cell_type": "code",
      "execution_count": null,
      "metadata": {
        "id": "M9bML_lYFpYm"
      },
      "outputs": [],
      "source": [
        "# Luego, convertimos la columna 'genres' en columnas binarias\n",
        "df_genres = df_games_clean['genres'].apply(lambda x: pd.Series([1] * len(x), index=x) if isinstance(x, list) else x).fillna(0)\n",
        "\n",
        "# Unimos las columnas binarias al DataFrame original\n",
        "df_games_clean = pd.concat([df_games_clean, df_genres], axis=1)\n",
        "\n",
        "# Identificamos las columnas nuevas creadas por df_genres\n",
        "new_genre_columns = df_genres.columns\n",
        "\n",
        "# Cambiamos el tipo de las columnas nuevas a int\n",
        "df_games_clean[new_genre_columns] = df_games_clean[new_genre_columns].astype(int)\n",
        "\n",
        "# Reemplazamos espacios en los nombres de las columnas por guiones bajos\n",
        "df_games_clean.columns = df_games_clean.columns.str.replace('&amp;', '')\n",
        "df_games_clean.columns = df_games_clean.columns.str.replace(' ', '_')"
      ]
    },
    {
      "cell_type": "code",
      "execution_count": null,
      "metadata": {
        "id": "Cf_xoBfEX57e"
      },
      "outputs": [],
      "source": [
        "df_games_final = df_games_clean[['id', 'title', 'genres', 'release_date']]"
      ]
    },
    {
      "cell_type": "code",
      "execution_count": null,
      "metadata": {
        "colab": {
          "base_uri": "https://localhost:8080/"
        },
        "id": "WLmB_OeiYHv_",
        "outputId": "fe308e2d-ba50-44f2-d52e-b43256a55aac"
      },
      "outputs": [
        {
          "name": "stdout",
          "output_type": "stream",
          "text": [
            "<class 'pandas.core.frame.DataFrame'>\n",
            "Int64Index: 28852 entries, 88310 to 120443\n",
            "Data columns (total 4 columns):\n",
            " #   Column        Non-Null Count  Dtype \n",
            "---  ------        --------------  ----- \n",
            " 0   id            28852 non-null  object\n",
            " 1   title         28852 non-null  object\n",
            " 2   genres        28852 non-null  object\n",
            " 3   release_date  28852 non-null  object\n",
            "dtypes: object(4)\n",
            "memory usage: 1.1+ MB\n"
          ]
        }
      ],
      "source": [
        "df_games_final.info()"
      ]
    },
    {
      "cell_type": "code",
      "execution_count": null,
      "metadata": {
        "colab": {
          "base_uri": "https://localhost:8080/"
        },
        "id": "aevZHmfbzu_t",
        "outputId": "11eb06cb-242a-4dad-db97-d3d6fe91dc48"
      },
      "outputs": [
        {
          "name": "stdout",
          "output_type": "stream",
          "text": [
            "0 registros no cumplen con la estructura 'yyyy-mm-dd' en la columna 'release_date'.\n",
            "\n",
            "Registros que no cumplen con la estructura 'yyyy-mm-dd' en la columna 'release_date':\n",
            "Empty DataFrame\n",
            "Columns: [id, title, genres, release_date]\n",
            "Index: []\n"
          ]
        },
        {
          "name": "stderr",
          "output_type": "stream",
          "text": [
            "<ipython-input-37-2dd0db9eee7c>:2: SettingWithCopyWarning: \n",
            "A value is trying to be set on a copy of a slice from a DataFrame.\n",
            "Try using .loc[row_indexer,col_indexer] = value instead\n",
            "\n",
            "See the caveats in the documentation: https://pandas.pydata.org/pandas-docs/stable/user_guide/indexing.html#returning-a-view-versus-a-copy\n",
            "  df_games_final['release_date'] = df_games_final['release_date'].astype(str)\n"
          ]
        }
      ],
      "source": [
        "# Convertir la columna 'release_date' a cadenas de caracteres (strings)\n",
        "df_games_final['release_date'] = df_games_final['release_date'].astype(str)\n",
        "\n",
        "# Filtrar las filas donde 'release_date' no cumple con la estructura 'yyyy-mm-dd'\n",
        "invalid_dates = df_games_final[~df_games_final['release_date'].str.match(r'^\\d{4}-\\d{2}-\\d{2}$')]\n",
        "\n",
        "count_invalid_dates = len(invalid_dates)\n",
        "print(f\"{count_invalid_dates} registros no cumplen con la estructura 'yyyy-mm-dd' en la columna 'release_date'.\")\n",
        "\n",
        "# Mostrar los registros que no cumplen\n",
        "print(\"\\nRegistros que no cumplen con la estructura 'yyyy-mm-dd' en la columna 'release_date':\")\n",
        "print(invalid_dates)"
      ]
    },
    {
      "cell_type": "code",
      "execution_count": null,
      "metadata": {
        "id": "pbrT30L_Yy8D"
      },
      "outputs": [],
      "source": [
        "# Guardar el DataFrame como un archivo CSV en la misma ruta\n",
        "df_games_final.to_csv('/content/drive/MyDrive/pf_henry/datasets/games.csv', index=False)"
      ]
    },
    {
      "cell_type": "markdown",
      "metadata": {
        "id": "5inFQvtTAn-5"
      },
      "source": [
        "# itmes"
      ]
    },
    {
      "cell_type": "code",
      "execution_count": null,
      "metadata": {
        "id": "1Tn4lr2T2UfM"
      },
      "outputs": [],
      "source": [
        "with open('/content/drive/MyDrive/pf_henry/datasets/australian_users_items.json', 'r', encoding='utf-8') as f:\n",
        "    data =f.readlines()\n",
        "\n",
        "records = [eval(line.strip()) for line in data]\n",
        "\n",
        "df_items = pd.DataFrame(records)"
      ]
    },
    {
      "cell_type": "code",
      "execution_count": null,
      "metadata": {
        "colab": {
          "base_uri": "https://localhost:8080/"
        },
        "id": "VttPM2Q3N8Eo",
        "outputId": "359dae53-0d68-483b-e468-497785035db0"
      },
      "outputs": [
        {
          "data": {
            "text/plain": [
              "(88310, 5)"
            ]
          },
          "execution_count": 18,
          "metadata": {},
          "output_type": "execute_result"
        }
      ],
      "source": [
        "df_items.shape"
      ]
    },
    {
      "cell_type": "code",
      "execution_count": null,
      "metadata": {
        "colab": {
          "base_uri": "https://localhost:8080/",
          "height": 206
        },
        "id": "jY69iH-V4QWq",
        "outputId": "c3c9eb91-5298-4cb4-e305-0f4fe8f5d0d4"
      },
      "outputs": [
        {
          "data": {
            "text/html": [
              "\n",
              "  <div id=\"df-a8efb1b2-190f-4aa1-9453-8ac284853e93\" class=\"colab-df-container\">\n",
              "    <div>\n",
              "<style scoped>\n",
              "    .dataframe tbody tr th:only-of-type {\n",
              "        vertical-align: middle;\n",
              "    }\n",
              "\n",
              "    .dataframe tbody tr th {\n",
              "        vertical-align: top;\n",
              "    }\n",
              "\n",
              "    .dataframe thead th {\n",
              "        text-align: right;\n",
              "    }\n",
              "</style>\n",
              "<table border=\"1\" class=\"dataframe\">\n",
              "  <thead>\n",
              "    <tr style=\"text-align: right;\">\n",
              "      <th></th>\n",
              "      <th>user_id</th>\n",
              "      <th>items_count</th>\n",
              "      <th>steam_id</th>\n",
              "      <th>user_url</th>\n",
              "      <th>items</th>\n",
              "    </tr>\n",
              "  </thead>\n",
              "  <tbody>\n",
              "    <tr>\n",
              "      <th>0</th>\n",
              "      <td>76561197970982479</td>\n",
              "      <td>277</td>\n",
              "      <td>76561197970982479</td>\n",
              "      <td>http://steamcommunity.com/profiles/76561197970...</td>\n",
              "      <td>[{'item_id': '10', 'item_name': 'Counter-Strik...</td>\n",
              "    </tr>\n",
              "    <tr>\n",
              "      <th>1</th>\n",
              "      <td>js41637</td>\n",
              "      <td>888</td>\n",
              "      <td>76561198035864385</td>\n",
              "      <td>http://steamcommunity.com/id/js41637</td>\n",
              "      <td>[{'item_id': '10', 'item_name': 'Counter-Strik...</td>\n",
              "    </tr>\n",
              "    <tr>\n",
              "      <th>2</th>\n",
              "      <td>evcentric</td>\n",
              "      <td>137</td>\n",
              "      <td>76561198007712555</td>\n",
              "      <td>http://steamcommunity.com/id/evcentric</td>\n",
              "      <td>[{'item_id': '1200', 'item_name': 'Red Orchest...</td>\n",
              "    </tr>\n",
              "    <tr>\n",
              "      <th>3</th>\n",
              "      <td>Riot-Punch</td>\n",
              "      <td>328</td>\n",
              "      <td>76561197963445855</td>\n",
              "      <td>http://steamcommunity.com/id/Riot-Punch</td>\n",
              "      <td>[{'item_id': '10', 'item_name': 'Counter-Strik...</td>\n",
              "    </tr>\n",
              "    <tr>\n",
              "      <th>4</th>\n",
              "      <td>doctr</td>\n",
              "      <td>541</td>\n",
              "      <td>76561198002099482</td>\n",
              "      <td>http://steamcommunity.com/id/doctr</td>\n",
              "      <td>[{'item_id': '300', 'item_name': 'Day of Defea...</td>\n",
              "    </tr>\n",
              "  </tbody>\n",
              "</table>\n",
              "</div>\n",
              "    <div class=\"colab-df-buttons\">\n",
              "\n",
              "  <div class=\"colab-df-container\">\n",
              "    <button class=\"colab-df-convert\" onclick=\"convertToInteractive('df-a8efb1b2-190f-4aa1-9453-8ac284853e93')\"\n",
              "            title=\"Convert this dataframe to an interactive table.\"\n",
              "            style=\"display:none;\">\n",
              "\n",
              "  <svg xmlns=\"http://www.w3.org/2000/svg\" height=\"24px\" viewBox=\"0 -960 960 960\">\n",
              "    <path d=\"M120-120v-720h720v720H120Zm60-500h600v-160H180v160Zm220 220h160v-160H400v160Zm0 220h160v-160H400v160ZM180-400h160v-160H180v160Zm440 0h160v-160H620v160ZM180-180h160v-160H180v160Zm440 0h160v-160H620v160Z\"/>\n",
              "  </svg>\n",
              "    </button>\n",
              "\n",
              "  <style>\n",
              "    .colab-df-container {\n",
              "      display:flex;\n",
              "      gap: 12px;\n",
              "    }\n",
              "\n",
              "    .colab-df-convert {\n",
              "      background-color: #E8F0FE;\n",
              "      border: none;\n",
              "      border-radius: 50%;\n",
              "      cursor: pointer;\n",
              "      display: none;\n",
              "      fill: #1967D2;\n",
              "      height: 32px;\n",
              "      padding: 0 0 0 0;\n",
              "      width: 32px;\n",
              "    }\n",
              "\n",
              "    .colab-df-convert:hover {\n",
              "      background-color: #E2EBFA;\n",
              "      box-shadow: 0px 1px 2px rgba(60, 64, 67, 0.3), 0px 1px 3px 1px rgba(60, 64, 67, 0.15);\n",
              "      fill: #174EA6;\n",
              "    }\n",
              "\n",
              "    .colab-df-buttons div {\n",
              "      margin-bottom: 4px;\n",
              "    }\n",
              "\n",
              "    [theme=dark] .colab-df-convert {\n",
              "      background-color: #3B4455;\n",
              "      fill: #D2E3FC;\n",
              "    }\n",
              "\n",
              "    [theme=dark] .colab-df-convert:hover {\n",
              "      background-color: #434B5C;\n",
              "      box-shadow: 0px 1px 3px 1px rgba(0, 0, 0, 0.15);\n",
              "      filter: drop-shadow(0px 1px 2px rgba(0, 0, 0, 0.3));\n",
              "      fill: #FFFFFF;\n",
              "    }\n",
              "  </style>\n",
              "\n",
              "    <script>\n",
              "      const buttonEl =\n",
              "        document.querySelector('#df-a8efb1b2-190f-4aa1-9453-8ac284853e93 button.colab-df-convert');\n",
              "      buttonEl.style.display =\n",
              "        google.colab.kernel.accessAllowed ? 'block' : 'none';\n",
              "\n",
              "      async function convertToInteractive(key) {\n",
              "        const element = document.querySelector('#df-a8efb1b2-190f-4aa1-9453-8ac284853e93');\n",
              "        const dataTable =\n",
              "          await google.colab.kernel.invokeFunction('convertToInteractive',\n",
              "                                                    [key], {});\n",
              "        if (!dataTable) return;\n",
              "\n",
              "        const docLinkHtml = 'Like what you see? Visit the ' +\n",
              "          '<a target=\"_blank\" href=https://colab.research.google.com/notebooks/data_table.ipynb>data table notebook</a>'\n",
              "          + ' to learn more about interactive tables.';\n",
              "        element.innerHTML = '';\n",
              "        dataTable['output_type'] = 'display_data';\n",
              "        await google.colab.output.renderOutput(dataTable, element);\n",
              "        const docLink = document.createElement('div');\n",
              "        docLink.innerHTML = docLinkHtml;\n",
              "        element.appendChild(docLink);\n",
              "      }\n",
              "    </script>\n",
              "  </div>\n",
              "\n",
              "\n",
              "<div id=\"df-4985f1a4-4ff8-4a13-9cce-a7bb6ad59eb1\">\n",
              "  <button class=\"colab-df-quickchart\" onclick=\"quickchart('df-4985f1a4-4ff8-4a13-9cce-a7bb6ad59eb1')\"\n",
              "            title=\"Suggest charts.\"\n",
              "            style=\"display:none;\">\n",
              "\n",
              "<svg xmlns=\"http://www.w3.org/2000/svg\" height=\"24px\"viewBox=\"0 0 24 24\"\n",
              "     width=\"24px\">\n",
              "    <g>\n",
              "        <path d=\"M19 3H5c-1.1 0-2 .9-2 2v14c0 1.1.9 2 2 2h14c1.1 0 2-.9 2-2V5c0-1.1-.9-2-2-2zM9 17H7v-7h2v7zm4 0h-2V7h2v10zm4 0h-2v-4h2v4z\"/>\n",
              "    </g>\n",
              "</svg>\n",
              "  </button>\n",
              "\n",
              "<style>\n",
              "  .colab-df-quickchart {\n",
              "      --bg-color: #E8F0FE;\n",
              "      --fill-color: #1967D2;\n",
              "      --hover-bg-color: #E2EBFA;\n",
              "      --hover-fill-color: #174EA6;\n",
              "      --disabled-fill-color: #AAA;\n",
              "      --disabled-bg-color: #DDD;\n",
              "  }\n",
              "\n",
              "  [theme=dark] .colab-df-quickchart {\n",
              "      --bg-color: #3B4455;\n",
              "      --fill-color: #D2E3FC;\n",
              "      --hover-bg-color: #434B5C;\n",
              "      --hover-fill-color: #FFFFFF;\n",
              "      --disabled-bg-color: #3B4455;\n",
              "      --disabled-fill-color: #666;\n",
              "  }\n",
              "\n",
              "  .colab-df-quickchart {\n",
              "    background-color: var(--bg-color);\n",
              "    border: none;\n",
              "    border-radius: 50%;\n",
              "    cursor: pointer;\n",
              "    display: none;\n",
              "    fill: var(--fill-color);\n",
              "    height: 32px;\n",
              "    padding: 0;\n",
              "    width: 32px;\n",
              "  }\n",
              "\n",
              "  .colab-df-quickchart:hover {\n",
              "    background-color: var(--hover-bg-color);\n",
              "    box-shadow: 0 1px 2px rgba(60, 64, 67, 0.3), 0 1px 3px 1px rgba(60, 64, 67, 0.15);\n",
              "    fill: var(--button-hover-fill-color);\n",
              "  }\n",
              "\n",
              "  .colab-df-quickchart-complete:disabled,\n",
              "  .colab-df-quickchart-complete:disabled:hover {\n",
              "    background-color: var(--disabled-bg-color);\n",
              "    fill: var(--disabled-fill-color);\n",
              "    box-shadow: none;\n",
              "  }\n",
              "\n",
              "  .colab-df-spinner {\n",
              "    border: 2px solid var(--fill-color);\n",
              "    border-color: transparent;\n",
              "    border-bottom-color: var(--fill-color);\n",
              "    animation:\n",
              "      spin 1s steps(1) infinite;\n",
              "  }\n",
              "\n",
              "  @keyframes spin {\n",
              "    0% {\n",
              "      border-color: transparent;\n",
              "      border-bottom-color: var(--fill-color);\n",
              "      border-left-color: var(--fill-color);\n",
              "    }\n",
              "    20% {\n",
              "      border-color: transparent;\n",
              "      border-left-color: var(--fill-color);\n",
              "      border-top-color: var(--fill-color);\n",
              "    }\n",
              "    30% {\n",
              "      border-color: transparent;\n",
              "      border-left-color: var(--fill-color);\n",
              "      border-top-color: var(--fill-color);\n",
              "      border-right-color: var(--fill-color);\n",
              "    }\n",
              "    40% {\n",
              "      border-color: transparent;\n",
              "      border-right-color: var(--fill-color);\n",
              "      border-top-color: var(--fill-color);\n",
              "    }\n",
              "    60% {\n",
              "      border-color: transparent;\n",
              "      border-right-color: var(--fill-color);\n",
              "    }\n",
              "    80% {\n",
              "      border-color: transparent;\n",
              "      border-right-color: var(--fill-color);\n",
              "      border-bottom-color: var(--fill-color);\n",
              "    }\n",
              "    90% {\n",
              "      border-color: transparent;\n",
              "      border-bottom-color: var(--fill-color);\n",
              "    }\n",
              "  }\n",
              "</style>\n",
              "\n",
              "  <script>\n",
              "    async function quickchart(key) {\n",
              "      const quickchartButtonEl =\n",
              "        document.querySelector('#' + key + ' button');\n",
              "      quickchartButtonEl.disabled = true;  // To prevent multiple clicks.\n",
              "      quickchartButtonEl.classList.add('colab-df-spinner');\n",
              "      try {\n",
              "        const charts = await google.colab.kernel.invokeFunction(\n",
              "            'suggestCharts', [key], {});\n",
              "      } catch (error) {\n",
              "        console.error('Error during call to suggestCharts:', error);\n",
              "      }\n",
              "      quickchartButtonEl.classList.remove('colab-df-spinner');\n",
              "      quickchartButtonEl.classList.add('colab-df-quickchart-complete');\n",
              "    }\n",
              "    (() => {\n",
              "      let quickchartButtonEl =\n",
              "        document.querySelector('#df-4985f1a4-4ff8-4a13-9cce-a7bb6ad59eb1 button');\n",
              "      quickchartButtonEl.style.display =\n",
              "        google.colab.kernel.accessAllowed ? 'block' : 'none';\n",
              "    })();\n",
              "  </script>\n",
              "</div>\n",
              "    </div>\n",
              "  </div>\n"
            ],
            "text/plain": [
              "             user_id  items_count           steam_id  \\\n",
              "0  76561197970982479          277  76561197970982479   \n",
              "1            js41637          888  76561198035864385   \n",
              "2          evcentric          137  76561198007712555   \n",
              "3         Riot-Punch          328  76561197963445855   \n",
              "4              doctr          541  76561198002099482   \n",
              "\n",
              "                                            user_url  \\\n",
              "0  http://steamcommunity.com/profiles/76561197970...   \n",
              "1               http://steamcommunity.com/id/js41637   \n",
              "2             http://steamcommunity.com/id/evcentric   \n",
              "3            http://steamcommunity.com/id/Riot-Punch   \n",
              "4                 http://steamcommunity.com/id/doctr   \n",
              "\n",
              "                                               items  \n",
              "0  [{'item_id': '10', 'item_name': 'Counter-Strik...  \n",
              "1  [{'item_id': '10', 'item_name': 'Counter-Strik...  \n",
              "2  [{'item_id': '1200', 'item_name': 'Red Orchest...  \n",
              "3  [{'item_id': '10', 'item_name': 'Counter-Strik...  \n",
              "4  [{'item_id': '300', 'item_name': 'Day of Defea...  "
            ]
          },
          "execution_count": 19,
          "metadata": {},
          "output_type": "execute_result"
        }
      ],
      "source": [
        "df_items.head()"
      ]
    },
    {
      "cell_type": "code",
      "execution_count": null,
      "metadata": {
        "id": "-2YSd2kePxRN"
      },
      "outputs": [],
      "source": [
        "# Crear el DataFrame con las columnas user_id, items_count, steam_id y user_url\n",
        "df_users_info = df_items[['user_id', 'items_count', 'steam_id', 'user_url']]\n",
        "\n",
        "# Crear una lista para almacenar los registros desglosados de items\n",
        "items_records = []\n",
        "\n",
        "# Recorrer el DataFrame original y desglosar los elementos de items\n",
        "for index, row in df_items.iterrows():\n",
        "    user_id = row['user_id']\n",
        "    items_list = row['items']\n",
        "    for item in items_list:\n",
        "        item_record = {\n",
        "            'user_id': user_id,\n",
        "            'item_id': item['item_id'],\n",
        "            # 'item_name': item['item_name'],\n",
        "            'playtime_forever': item['playtime_forever'],\n",
        "            # 'playtime_2weeks': item['playtime_2weeks']\n",
        "        }\n",
        "        items_records.append(item_record)\n",
        "\n",
        "# Crear el DataFrame con los registros desglosados de items\n",
        "df_items_info = pd.DataFrame(items_records)"
      ]
    },
    {
      "cell_type": "code",
      "source": [
        "# Filtrar las filas donde 'playtime_forever' sea mayor a 1200\n",
        "df_items = df_items[df_items['playtime_forever'] > 1200]\n",
        "df_items.info()"
      ],
      "metadata": {
        "id": "YCWX6_8t0d3C"
      },
      "execution_count": null,
      "outputs": []
    },
    {
      "cell_type": "code",
      "execution_count": null,
      "metadata": {
        "colab": {
          "base_uri": "https://localhost:8080/"
        },
        "id": "-gdOFOPzQJq1",
        "outputId": "6651b4b1-6b3b-4632-dd3e-15835053f6a9"
      },
      "outputs": [
        {
          "data": {
            "text/plain": [
              "(5153209, 3)"
            ]
          },
          "execution_count": 21,
          "metadata": {},
          "output_type": "execute_result"
        }
      ],
      "source": [
        "df_items_info.shape"
      ]
    },
    {
      "cell_type": "code",
      "execution_count": null,
      "metadata": {
        "colab": {
          "base_uri": "https://localhost:8080/"
        },
        "id": "GOIiMUXX0Pkk",
        "outputId": "dd712a88-5a90-455c-dd71-afcbdd85423b"
      },
      "outputs": [
        {
          "data": {
            "text/plain": [
              "user_id             76561197970982479\n",
              "item_id                            10\n",
              "playtime_forever                    6\n",
              "Name: 0, dtype: object"
            ]
          },
          "execution_count": 22,
          "metadata": {},
          "output_type": "execute_result"
        }
      ],
      "source": [
        "df_items_info.iloc[0]"
      ]
    },
    {
      "cell_type": "code",
      "execution_count": null,
      "metadata": {
        "id": "X6NTF12paGlY"
      },
      "outputs": [],
      "source": [
        "# Guardar el DataFrame como un archivo CSV en la misma ruta\n",
        "df_items_info.to_csv('/content/drive/MyDrive/pf_henry/datasets/items.csv', index=False)"
      ]
    },
    {
      "cell_type": "markdown",
      "metadata": {
        "id": "XC54ITLhACCx"
      },
      "source": [
        "# Reviews"
      ]
    },
    {
      "cell_type": "code",
      "execution_count": null,
      "metadata": {
        "id": "Am6jbpZe19eS"
      },
      "outputs": [],
      "source": [
        "# Abre el archivo JSON y lee los datos\n",
        "with open('/content/drive/MyDrive/pf_henry/datasets/australian_user_reviews.json', 'r', encoding='utf-8') as f:\n",
        "    data = f.readlines()\n",
        "\n",
        "# Corrige el formato JSON eliminando comas al final de las líneas y encierra todo en corchetes para formar una lista de diccionarios válida\n",
        "fixed_data = \"[\" + \",\".join(data) + \"]\"\n",
        "\n",
        "# Convierte el JSON en una lista de diccionarios\n",
        "records = eval(fixed_data)\n",
        "\n",
        "# Crea el DataFrame con las reviews y agrega la relación con user_id\n",
        "reviews_df = pd.DataFrame([{\n",
        "    \"user_id\": record[\"user_id\"],\n",
        "    \"item_id\": review[\"item_id\"],\n",
        "    \"posted\": review[\"posted\"],\n",
        "    \"recommend\": review[\"recommend\"],\n",
        "    \"review\": review[\"review\"]\n",
        "} for record in records for review in record[\"reviews\"]])"
      ]
    },
    {
      "cell_type": "code",
      "source": [
        "# Extraer la parte de la fecha de la columna \"posted\" usando una expresión regular\n",
        "reviews_df['posted'] = reviews_df['posted'].str.extract(r'Posted (.+?)\\.')\n",
        "\n",
        "# Definir un formato que permita fechas con o sin año\n",
        "date_formats = ['%B %d, %Y', '%B %d']\n",
        "\n",
        "# Intentar convertir la columna \"posted\" al formato deseado\n",
        "for date_format in date_formats:\n",
        "    try:\n",
        "        reviews_df['posted'] = pd.to_datetime(reviews_df['posted'], format=date_format, errors='coerce')\n",
        "        break  # Salir del bucle si la conversión es exitosa\n",
        "    except ValueError:\n",
        "        pass  # Continuar con el siguiente formato si hay un error\n",
        "\n",
        "# Reemplazar el formato de fecha con el deseado\n",
        "reviews_df['posted'] = reviews_df['posted'].dt.strftime('%Y-%m-%d')\n",
        "\n",
        "# Cambiar el tipo de datos de la  columna 'item_id' a int64\n",
        "reviews_df['item_id'] = reviews_df['item_id'].astype('int64')"
      ],
      "metadata": {
        "id": "puSAVzch1ekW"
      },
      "execution_count": null,
      "outputs": []
    },
    {
      "cell_type": "code",
      "execution_count": null,
      "metadata": {
        "id": "fDm3-K4R2Mzk"
      },
      "outputs": [],
      "source": [
        "# print('games')\n",
        "# print(df_games.info())\n",
        "# print('items')\n",
        "# print(df_items.info())\n",
        "# print(df_items_info.info())\n",
        "# print('users')\n",
        "# print(user_df.info())\n",
        "# print(reviews_df.info())"
      ]
    },
    {
      "cell_type": "code",
      "execution_count": null,
      "metadata": {
        "id": "zpMWdnicg7Jd"
      },
      "outputs": [],
      "source": [
        "from textblob import TextBlob"
      ]
    },
    {
      "cell_type": "code",
      "execution_count": null,
      "metadata": {
        "id": "xjNiE11SaBYp"
      },
      "outputs": [],
      "source": [
        "def analyze_sentiment(text):\n",
        "\n",
        "  blob = TextBlob(text)\n",
        "\n",
        "  polarity = blob.sentiment.polarity\n",
        "\n",
        "  if polarity > 0:\n",
        "    sentiment = 2\n",
        "  elif polarity < 0:\n",
        "    sentiment = 0\n",
        "  else:\n",
        "    sentiment = 1\n",
        "\n",
        "  return sentiment"
      ]
    },
    {
      "cell_type": "code",
      "execution_count": null,
      "metadata": {
        "id": "LmS_8AuGf2UV"
      },
      "outputs": [],
      "source": [
        "reviews_df['sentiment_analysis'] = reviews_df['review'].apply(analyze_sentiment)"
      ]
    },
    {
      "cell_type": "code",
      "execution_count": null,
      "metadata": {
        "colab": {
          "base_uri": "https://localhost:8080/"
        },
        "id": "CY3BnkY8m1Aw",
        "outputId": "52ef1319-7510-492f-ca2c-3cdc046fe21c"
      },
      "outputs": [
        {
          "name": "stdout",
          "output_type": "stream",
          "text": [
            "Cantidad de elementos únicos en 'sentiment_analysis': 3\n",
            "Conteo de cada valor en 'sentiment_analysis':\n",
            "2    33531\n",
            "1    13028\n",
            "0    12746\n",
            "Name: sentiment_analysis, dtype: int64\n",
            "Mediana de 'sentiment_analysis': 2.0\n",
            "Moda de 'sentiment_analysis': 2\n"
          ]
        }
      ],
      "source": [
        "# Filtrar el DataFrame para mostrar solo las filas con item_id igual a 570\n",
        "filtered_df = reviews_df\n",
        "\n",
        "# Calcular la cantidad de elementos únicos y contar cuántos hay de cada uno\n",
        "unique_sentiments_count = filtered_df['sentiment_analysis'].nunique()\n",
        "sentiments_counts = filtered_df['sentiment_analysis'].value_counts()\n",
        "\n",
        "# Calcular la mediana de la columna 'sentiment_analysis'\n",
        "median_sentiment = filtered_df['sentiment_analysis'].median()\n",
        "\n",
        "# Calcular la moda de la columna 'sentiment_analysis'\n",
        "mode_sentiment = filtered_df['sentiment_analysis'].mode().values[0]\n",
        "\n",
        "# Mostrar los resultados\n",
        "print(\"Cantidad de elementos únicos en 'sentiment_analysis':\", unique_sentiments_count)\n",
        "print(\"Conteo de cada valor en 'sentiment_analysis':\")\n",
        "print(sentiments_counts)\n",
        "print(\"Mediana de 'sentiment_analysis':\", median_sentiment)\n",
        "print(\"Moda de 'sentiment_analysis':\", mode_sentiment)"
      ]
    },
    {
      "cell_type": "code",
      "execution_count": null,
      "metadata": {
        "id": "xgZq1kHH9VV2"
      },
      "outputs": [],
      "source": [
        "reviews_df_clean = reviews_df[['user_id', 'item_id', 'recommend', 'posted', 'sentiment_analysis']]"
      ]
    },
    {
      "cell_type": "code",
      "execution_count": null,
      "metadata": {
        "colab": {
          "base_uri": "https://localhost:8080/"
        },
        "id": "Rj7f61F_9ZiO",
        "outputId": "a0bdb328-5487-4010-d5a0-d77eaaeecf2f"
      },
      "outputs": [
        {
          "name": "stdout",
          "output_type": "stream",
          "text": [
            "<class 'pandas.core.frame.DataFrame'>\n",
            "RangeIndex: 59305 entries, 0 to 59304\n",
            "Data columns (total 5 columns):\n",
            " #   Column              Non-Null Count  Dtype \n",
            "---  ------              --------------  ----- \n",
            " 0   user_id             59305 non-null  object\n",
            " 1   item_id             59305 non-null  int64 \n",
            " 2   recommend           59305 non-null  bool  \n",
            " 3   posted              49186 non-null  object\n",
            " 4   sentiment_analysis  59305 non-null  int64 \n",
            "dtypes: bool(1), int64(2), object(2)\n",
            "memory usage: 1.9+ MB\n"
          ]
        }
      ],
      "source": [
        "reviews_df_clean.info()"
      ]
    },
    {
      "cell_type": "code",
      "execution_count": null,
      "metadata": {
        "id": "5ap4iEfFhHxq"
      },
      "outputs": [],
      "source": [
        "reviews_df_clean.to_csv('/content/drive/MyDrive/pf_henry/datasets/reviews.csv', index=False)"
      ]
    }
  ],
  "metadata": {
    "colab": {
      "provenance": []
    },
    "kernelspec": {
      "display_name": "Python 3",
      "name": "python3"
    },
    "language_info": {
      "name": "python"
    }
  },
  "nbformat": 4,
  "nbformat_minor": 0
}